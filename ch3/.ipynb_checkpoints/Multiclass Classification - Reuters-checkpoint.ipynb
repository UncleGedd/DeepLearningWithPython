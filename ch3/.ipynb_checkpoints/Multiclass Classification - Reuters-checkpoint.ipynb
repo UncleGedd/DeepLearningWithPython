{
 "cells": [
  {
   "cell_type": "code",
   "execution_count": 1,
   "metadata": {},
   "outputs": [
    {
     "name": "stderr",
     "output_type": "stream",
     "text": [
      "Using TensorFlow backend.\n",
      "/opt/anaconda3/lib/python3.7/site-packages/tensorflow/python/framework/dtypes.py:526: FutureWarning: Passing (type, 1) or '1type' as a synonym of type is deprecated; in a future version of numpy, it will be understood as (type, (1,)) / '(1,)type'.\n",
      "  _np_qint8 = np.dtype([(\"qint8\", np.int8, 1)])\n",
      "/opt/anaconda3/lib/python3.7/site-packages/tensorflow/python/framework/dtypes.py:527: FutureWarning: Passing (type, 1) or '1type' as a synonym of type is deprecated; in a future version of numpy, it will be understood as (type, (1,)) / '(1,)type'.\n",
      "  _np_quint8 = np.dtype([(\"quint8\", np.uint8, 1)])\n",
      "/opt/anaconda3/lib/python3.7/site-packages/tensorflow/python/framework/dtypes.py:528: FutureWarning: Passing (type, 1) or '1type' as a synonym of type is deprecated; in a future version of numpy, it will be understood as (type, (1,)) / '(1,)type'.\n",
      "  _np_qint16 = np.dtype([(\"qint16\", np.int16, 1)])\n",
      "/opt/anaconda3/lib/python3.7/site-packages/tensorflow/python/framework/dtypes.py:529: FutureWarning: Passing (type, 1) or '1type' as a synonym of type is deprecated; in a future version of numpy, it will be understood as (type, (1,)) / '(1,)type'.\n",
      "  _np_quint16 = np.dtype([(\"quint16\", np.uint16, 1)])\n",
      "/opt/anaconda3/lib/python3.7/site-packages/tensorflow/python/framework/dtypes.py:530: FutureWarning: Passing (type, 1) or '1type' as a synonym of type is deprecated; in a future version of numpy, it will be understood as (type, (1,)) / '(1,)type'.\n",
      "  _np_qint32 = np.dtype([(\"qint32\", np.int32, 1)])\n",
      "/opt/anaconda3/lib/python3.7/site-packages/tensorflow/python/framework/dtypes.py:535: FutureWarning: Passing (type, 1) or '1type' as a synonym of type is deprecated; in a future version of numpy, it will be understood as (type, (1,)) / '(1,)type'.\n",
      "  np_resource = np.dtype([(\"resource\", np.ubyte, 1)])\n"
     ]
    }
   ],
   "source": [
    "from keras.datasets import reuters\n",
    "from keras import models, layers\n",
    "import matplotlib.pyplot as plt\n",
    "import numpy as np"
   ]
  },
  {
   "cell_type": "code",
   "execution_count": 2,
   "metadata": {},
   "outputs": [],
   "source": [
    "(train_data, train_labels), (test_data, test_labels) = reuters.load_data(num_words=10000)"
   ]
  },
  {
   "cell_type": "code",
   "execution_count": 3,
   "metadata": {},
   "outputs": [
    {
     "data": {
      "text/plain": [
       "'said as a result of its december acquisition of space co it expects earnings per share in 1987 of 1 15 to 1 30 dlrs per share up from 70 cts in 1986 the company said pretax net should rise to nine to 10 mln dlrs from six mln dlrs in 1986 and rental operation revenues to 19 to 22 mln dlrs from 12 5 mln dlrs it said cash flow per share this year should be 2 50 to three dlrs reuter 3 '"
      ]
     },
     "execution_count": 3,
     "metadata": {},
     "output_type": "execute_result"
    }
   ],
   "source": [
    "word_index = reuters.get_word_index()\n",
    "word_index_rev = {v:k for k,v in word_index.items()}\n",
    "''.join([word_index_rev[w-3]+' ' for w in train_data[0] if w > 2])"
   ]
  },
  {
   "cell_type": "markdown",
   "metadata": {},
   "source": [
    "### Preparing the data"
   ]
  },
  {
   "cell_type": "code",
   "execution_count": 4,
   "metadata": {},
   "outputs": [
    {
     "data": {
      "text/plain": [
       "(8982, 10000)"
      ]
     },
     "execution_count": 4,
     "metadata": {},
     "output_type": "execute_result"
    }
   ],
   "source": [
    "def vectorize_word_list(word_list, dim=10000):\n",
    "  results = np.zeros((len(word_list), dim)) # samples x 10000 words\n",
    "  for i, word in enumerate(word_list):\n",
    "    results[i, word] = 1 # note we passed a list as the second axis\n",
    "  return results\n",
    "\n",
    "X_train = vectorize_word_list(train_data)\n",
    "X_test = vectorize_word_list(test_data)\n",
    "X_train.shape"
   ]
  },
  {
   "cell_type": "code",
   "execution_count": 5,
   "metadata": {},
   "outputs": [],
   "source": [
    "# can also use from keras.utils.np_utils import to_categorical\n",
    "\n",
    "def one_hot_encode(labels, dim=46): # 4 categories\n",
    "    results = np.zeros((len(labels), dim))\n",
    "    for i, label in enumerate(labels):\n",
    "        results[i, label] = 1\n",
    "    return results"
   ]
  },
  {
   "cell_type": "code",
   "execution_count": 6,
   "metadata": {},
   "outputs": [
    {
     "data": {
      "text/plain": [
       "(8982, 46)"
      ]
     },
     "execution_count": 6,
     "metadata": {},
     "output_type": "execute_result"
    }
   ],
   "source": [
    "y_train = one_hot_encode(train_labels) # go from numerical to categorical\n",
    "y_test = one_hot_encode(test_labels)\n",
    "y_train.shape"
   ]
  },
  {
   "cell_type": "code",
   "execution_count": 7,
   "metadata": {},
   "outputs": [
    {
     "data": {
      "text/plain": [
       "(7982, 10000)"
      ]
     },
     "execution_count": 7,
     "metadata": {},
     "output_type": "execute_result"
    }
   ],
   "source": [
    "X_val = X_train[:1000]\n",
    "partial_X_train = X_train[1000:]\n",
    "y_val = y_train[:1000]\n",
    "partial_y_train = y_train[1000:]\n",
    "partial_X_train.shape"
   ]
  },
  {
   "cell_type": "markdown",
   "metadata": {},
   "source": [
    "### Building the Network"
   ]
  },
  {
   "cell_type": "code",
   "execution_count": 8,
   "metadata": {},
   "outputs": [
    {
     "name": "stdout",
     "output_type": "stream",
     "text": [
      "WARNING:tensorflow:From /opt/anaconda3/lib/python3.7/site-packages/tensorflow/python/ops/resource_variable_ops.py:435: colocate_with (from tensorflow.python.framework.ops) is deprecated and will be removed in a future version.\n",
      "Instructions for updating:\n",
      "Colocations handled automatically by placer.\n"
     ]
    }
   ],
   "source": [
    "model = models.Sequential()\n",
    "\n",
    "# input_shape is the number of features\n",
    "model.add(layers.Dense(64, activation='relu', input_shape=(10000,)))\n",
    "model.add(layers.Dense(64, activation='relu'))\n",
    "\n",
    "# output is size 46 because there are 46 categories\n",
    "# softmax outputs a probility distribution that sums to 1\n",
    "model.add(layers.Dense(46, activation='softmax'))\n",
    "\n",
    "model.compile(optimizer='rmsprop',\n",
    "              loss='categorical_crossentropy',\n",
    "              metrics=['accuracy'])"
   ]
  },
  {
   "cell_type": "markdown",
   "metadata": {},
   "source": [
    "### Run the model!"
   ]
  },
  {
   "cell_type": "code",
   "execution_count": 9,
   "metadata": {},
   "outputs": [
    {
     "name": "stdout",
     "output_type": "stream",
     "text": [
      "WARNING:tensorflow:From /opt/anaconda3/lib/python3.7/site-packages/tensorflow/python/ops/math_ops.py:3066: to_int32 (from tensorflow.python.ops.math_ops) is deprecated and will be removed in a future version.\n",
      "Instructions for updating:\n",
      "Use tf.cast instead.\n",
      "Train on 7982 samples, validate on 1000 samples\n",
      "Epoch 1/20\n",
      "7982/7982 [==============================] - 2s 243us/step - loss: 2.5696 - accuracy: 0.5041 - val_loss: 1.6562 - val_accuracy: 0.6510\n",
      "Epoch 2/20\n",
      "7982/7982 [==============================] - 1s 167us/step - loss: 1.3697 - accuracy: 0.7056 - val_loss: 1.2671 - val_accuracy: 0.7200\n",
      "Epoch 3/20\n",
      "7982/7982 [==============================] - 1s 177us/step - loss: 1.0116 - accuracy: 0.7875 - val_loss: 1.0872 - val_accuracy: 0.7720\n",
      "Epoch 4/20\n",
      "7982/7982 [==============================] - 1s 169us/step - loss: 0.7825 - accuracy: 0.8403 - val_loss: 1.0132 - val_accuracy: 0.7840\n",
      "Epoch 5/20\n",
      "7982/7982 [==============================] - 1s 174us/step - loss: 0.6182 - accuracy: 0.8706 - val_loss: 0.9662 - val_accuracy: 0.7930\n",
      "Epoch 6/20\n",
      "7982/7982 [==============================] - 1s 168us/step - loss: 0.4908 - accuracy: 0.8973 - val_loss: 0.9019 - val_accuracy: 0.8050\n",
      "Epoch 7/20\n",
      "7982/7982 [==============================] - 1s 169us/step - loss: 0.3969 - accuracy: 0.9173 - val_loss: 0.8920 - val_accuracy: 0.8130\n",
      "Epoch 8/20\n",
      "7982/7982 [==============================] - 1s 166us/step - loss: 0.3219 - accuracy: 0.9290 - val_loss: 0.9240 - val_accuracy: 0.8000\n",
      "Epoch 9/20\n",
      "7982/7982 [==============================] - 1s 170us/step - loss: 0.2700 - accuracy: 0.9372 - val_loss: 0.9005 - val_accuracy: 0.8240\n",
      "Epoch 10/20\n",
      "7982/7982 [==============================] - 1s 172us/step - loss: 0.2294 - accuracy: 0.9463 - val_loss: 0.8888 - val_accuracy: 0.8220\n",
      "Epoch 11/20\n",
      "7982/7982 [==============================] - 2s 194us/step - loss: 0.1961 - accuracy: 0.9478 - val_loss: 0.9263 - val_accuracy: 0.8110\n",
      "Epoch 12/20\n",
      "7982/7982 [==============================] - 2s 192us/step - loss: 0.1756 - accuracy: 0.9529 - val_loss: 0.9790 - val_accuracy: 0.8090\n",
      "Epoch 13/20\n",
      "7982/7982 [==============================] - 1s 177us/step - loss: 0.1603 - accuracy: 0.9540 - val_loss: 0.9363 - val_accuracy: 0.8230\n",
      "Epoch 14/20\n",
      "7982/7982 [==============================] - 1s 173us/step - loss: 0.1452 - accuracy: 0.9562 - val_loss: 1.0020 - val_accuracy: 0.8040\n",
      "Epoch 15/20\n",
      "7982/7982 [==============================] - 1s 177us/step - loss: 0.1385 - accuracy: 0.9563 - val_loss: 0.9808 - val_accuracy: 0.8050\n",
      "Epoch 16/20\n",
      "7982/7982 [==============================] - 1s 171us/step - loss: 0.1292 - accuracy: 0.9564 - val_loss: 1.0068 - val_accuracy: 0.7970\n",
      "Epoch 17/20\n",
      "7982/7982 [==============================] - 1s 180us/step - loss: 0.1232 - accuracy: 0.9605 - val_loss: 1.0016 - val_accuracy: 0.8180\n",
      "Epoch 18/20\n",
      "7982/7982 [==============================] - 1s 181us/step - loss: 0.1203 - accuracy: 0.9560 - val_loss: 1.0465 - val_accuracy: 0.8020\n",
      "Epoch 19/20\n",
      "7982/7982 [==============================] - 1s 177us/step - loss: 0.1160 - accuracy: 0.9577 - val_loss: 1.0292 - val_accuracy: 0.8070\n",
      "Epoch 20/20\n",
      "7982/7982 [==============================] - 1s 174us/step - loss: 0.1168 - accuracy: 0.9565 - val_loss: 1.0753 - val_accuracy: 0.7980\n"
     ]
    }
   ],
   "source": [
    "NUM_EPOCHS = 20\n",
    "history = model.fit(partial_X_train, partial_y_train,\n",
    "                 epochs=NUM_EPOCHS, batch_size=512,\n",
    "                 validation_data=(X_val, y_val))"
   ]
  },
  {
   "cell_type": "code",
   "execution_count": 10,
   "metadata": {},
   "outputs": [
    {
     "data": {
      "text/plain": [
       "dict_keys(['val_loss', 'val_accuracy', 'loss', 'accuracy'])"
      ]
     },
     "execution_count": 10,
     "metadata": {},
     "output_type": "execute_result"
    }
   ],
   "source": [
    "hist = history.history\n",
    "hist.keys()"
   ]
  },
  {
   "cell_type": "code",
   "execution_count": 11,
   "metadata": {},
   "outputs": [
    {
     "data": {
      "image/png": "[encoded data removed]",
      "text/plain": [
       "<Figure size 432x288 with 1 Axes>"
      ]
     },
     "metadata": {
      "needs_background": "light"
     },
     "output_type": "display_data"
    }
   ],
   "source": [
    "plt.scatter(range(NUM_EPOCHS), hist['val_loss'], label='Validation Loss')\n",
    "plt.scatter(range(NUM_EPOCHS), hist['loss'], label='Training Loss')\n",
    "plt.title('Loss')\n",
    "plt.legend()\n",
    "plt.show()"
   ]
  },
  {
   "cell_type": "code",
   "execution_count": 12,
   "metadata": {},
   "outputs": [
    {
     "data": {
      "image/png": "[encoded data removed]",
      "text/plain": [
       "<Figure size 432x288 with 1 Axes>"
      ]
     },
     "metadata": {
      "needs_background": "light"
     },
     "output_type": "display_data"
    }
   ],
   "source": [
    "plt.scatter(range(NUM_EPOCHS), hist['val_accuracy'], label='Validation Accuracy')\n",
    "plt.scatter(range(NUM_EPOCHS), hist['accuracy'], label='Training Accuracy')\n",
    "plt.title('Accuracy')\n",
    "plt.legend()\n",
    "plt.show()"
   ]
  },
  {
   "cell_type": "markdown",
   "metadata": {},
   "source": [
    "### Retrain\n",
    "Using less epochs"
   ]
  },
  {
   "cell_type": "code",
   "execution_count": 25,
   "metadata": {},
   "outputs": [
    {
     "name": "stdout",
     "output_type": "stream",
     "text": [
      "Train on 7982 samples, validate on 1000 samples\n",
      "Epoch 1/7\n",
      "7982/7982 [==============================] - 2s 202us/step - loss: 2.6652 - accuracy: 0.5018 - val_loss: 1.7280 - val_accuracy: 0.6470\n",
      "Epoch 2/7\n",
      "7982/7982 [==============================] - 1s 171us/step - loss: 1.4332 - accuracy: 0.7045 - val_loss: 1.2999 - val_accuracy: 0.7170\n",
      "Epoch 3/7\n",
      "7982/7982 [==============================] - 1s 171us/step - loss: 1.0578 - accuracy: 0.7776 - val_loss: 1.1264 - val_accuracy: 0.7580\n",
      "Epoch 4/7\n",
      "7982/7982 [==============================] - 1s 167us/step - loss: 0.8276 - accuracy: 0.8250 - val_loss: 1.0254 - val_accuracy: 0.7910\n",
      "Epoch 5/7\n",
      "7982/7982 [==============================] - 1s 168us/step - loss: 0.6593 - accuracy: 0.8612 - val_loss: 0.9664 - val_accuracy: 0.8010\n",
      "Epoch 6/7\n",
      "7982/7982 [==============================] - 1s 173us/step - loss: 0.5233 - accuracy: 0.8910 - val_loss: 0.9555 - val_accuracy: 0.7990\n",
      "Epoch 7/7\n",
      "7982/7982 [==============================] - 1s 184us/step - loss: 0.4166 - accuracy: 0.9142 - val_loss: 0.9266 - val_accuracy: 0.8170\n"
     ]
    }
   ],
   "source": [
    "model = models.Sequential()\n",
    "model.add(layers.Dense(64, activation='relu', input_shape=(10000,)))\n",
    "model.add(layers.Dense(64, activation='relu'))\n",
    "\n",
    "# output is size 46 because there are 46 categories\n",
    "# softmax outputs a probility distribution that sums to 1\n",
    "model.add(layers.Dense(46, activation='softmax'))\n",
    "\n",
    "model.compile(optimizer='rmsprop',\n",
    "              loss='categorical_crossentropy',\n",
    "              metrics=['accuracy'])\n",
    "\n",
    "NUM_EPOCHS = 7\n",
    "hist = model.fit(partial_X_train, partial_y_train,\n",
    "                 epochs=NUM_EPOCHS, batch_size=512,\n",
    "                 validation_data=(X_val, y_val))"
   ]
  },
  {
   "cell_type": "code",
   "execution_count": 26,
   "metadata": {},
   "outputs": [
    {
     "name": "stdout",
     "output_type": "stream",
     "text": [
      "2246/2246 [==============================] - 0s 128us/step\n"
     ]
    },
    {
     "data": {
      "text/plain": [
       "[1.0076421459975884, 0.7822796106338501]"
      ]
     },
     "execution_count": 26,
     "metadata": {},
     "output_type": "execute_result"
    }
   ],
   "source": [
    "results = model.evaluate(X_test, y_test)\n",
    "results"
   ]
  },
  {
   "cell_type": "code",
   "execution_count": 27,
   "metadata": {},
   "outputs": [
    {
     "data": {
      "text/plain": [
       "array([[1.75513516e-04, 4.68387909e-04, 8.26023970e-05, ...,\n",
       "        6.08951086e-05, 6.46448389e-05, 3.59857586e-05],\n",
       "       [8.66650324e-03, 2.21005619e-01, 1.44864783e-01, ...,\n",
       "        9.08857677e-04, 3.54284879e-07, 2.35839034e-04],\n",
       "       [4.21749754e-03, 6.44595027e-01, 3.50402072e-02, ...,\n",
       "        3.76332784e-03, 2.68203803e-05, 4.62788157e-04],\n",
       "       ...,\n",
       "       [2.47540302e-04, 6.31291885e-04, 1.06253356e-04, ...,\n",
       "        5.82996814e-04, 1.21442623e-04, 1.16304182e-04],\n",
       "       [6.37699012e-03, 8.04020092e-02, 4.96430369e-03, ...,\n",
       "        5.81807364e-03, 6.74827839e-04, 2.00111419e-03],\n",
       "       [4.36118135e-04, 7.66013682e-01, 5.74116176e-03, ...,\n",
       "        1.95392710e-03, 6.30517616e-06, 2.28475874e-05]], dtype=float32)"
      ]
     },
     "execution_count": 27,
     "metadata": {},
     "output_type": "execute_result"
    }
   ],
   "source": [
    "preds = model.predict(X_test)\n",
    "preds"
   ]
  },
  {
   "cell_type": "code",
   "execution_count": 28,
   "metadata": {},
   "outputs": [
    {
     "data": {
      "text/plain": [
       "0.99999994"
      ]
     },
     "execution_count": 28,
     "metadata": {},
     "output_type": "execute_result"
    }
   ],
   "source": [
    "np.sum(preds[0])"
   ]
  },
  {
   "cell_type": "markdown",
   "metadata": {},
   "source": [
    "### Another approach to encoding the categorial labels\n",
    "Instead of using one-hot encoding, we could have simply cast the labels as an integer tensor using ```np.array(train_labels)```  \n",
    "\n",
    "The only other thing we would need to change is the loss function to ```sparse_categorical_crossentropy```"
   ]
  },
  {
   "cell_type": "markdown",
   "metadata": {},
   "source": [
    "### Final Note\n",
    "It is vitally important to ensure that intermediate layers are **larger** than the output layer! In this case the output layer was 46, so our hidden layers were 64."
   ]
  }
 ],
 "metadata": {
  "kernelspec": {
   "display_name": "Python 3",
   "language": "python",
   "name": "python3"
  },
  "language_info": {
   "codemirror_mode": {
    "name": "ipython",
    "version": 3
   },
   "file_extension": ".py",
   "mimetype": "text/x-python",
   "name": "python",
   "nbconvert_exporter": "python",
   "pygments_lexer": "ipython3",
   "version": "3.7.7"
  }
 },
 "nbformat": 4,
 "nbformat_minor": 4
}
