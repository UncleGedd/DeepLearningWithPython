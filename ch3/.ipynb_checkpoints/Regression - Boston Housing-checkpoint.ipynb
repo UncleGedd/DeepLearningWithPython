{
 "cells": [
  {
   "cell_type": "code",
   "execution_count": 12,
   "metadata": {},
   "outputs": [],
   "source": [
    "from keras.datasets import boston_housing\n",
    "from keras import models, layers\n",
    "from sklearn.model_selection import KFold\n",
    "import numpy as np\n",
    "import matplotlib.pyplot as plt"
   ]
  },
  {
   "cell_type": "code",
   "execution_count": 26,
   "metadata": {},
   "outputs": [
    {
     "data": {
      "text/plain": [
       "(404, 13)"
      ]
     },
     "execution_count": 26,
     "metadata": {},
     "output_type": "execute_result"
    }
   ],
   "source": [
    "(train_data, train_targets), (test_data, test_targets) = boston_housing.load_data()\n",
    "train_data.shape"
   ]
  },
  {
   "cell_type": "markdown",
   "metadata": {},
   "source": [
    "### Normalize the feature data"
   ]
  },
  {
   "cell_type": "code",
   "execution_count": 8,
   "metadata": {},
   "outputs": [
    {
     "data": {
      "text/plain": [
       "(404, 13)"
      ]
     },
     "execution_count": 8,
     "metadata": {},
     "output_type": "execute_result"
    }
   ],
   "source": [
    "mean = train_data.mean(axis=0)\n",
    "std = train_data.std(axis=0)\n",
    "train_data = (train_data - mean ) / std\n",
    "\n",
    "# always use mean and std from TRAIN data\n",
    "test_data = (test_data - mean) / std\n",
    "train_data.shape"
   ]
  },
  {
   "cell_type": "markdown",
   "metadata": {},
   "source": [
    "### Build model generator"
   ]
  },
  {
   "cell_type": "code",
   "execution_count": 29,
   "metadata": {},
   "outputs": [],
   "source": [
    "def build_model():\n",
    "    model = models.Sequential()\n",
    "    model.add(layers.Dense(64, activation='relu', input_shape=(13,)))\n",
    "    model.add(layers.Dense(64, activation='relu'))\n",
    "    model.add(layers.Dense(1))\n",
    "    model.compile(optimizer='rmsprop', loss='mse', metrics=['mae']) # mean absolute error\n",
    "    return model"
   ]
  },
  {
   "cell_type": "markdown",
   "metadata": {},
   "source": [
    "Note that the network ends with a single unit and no activation function, because the layer will be linear. This is because we are solving a regression problem, predicting a singular, continous value. An activation function would squash the range, which we don't want"
   ]
  },
  {
   "cell_type": "markdown",
   "metadata": {},
   "source": [
    "### K-Fold CV\n",
    "Because the dataset is small, building a validation set out of the training data would be even smaller, causing a high variance in validation scores. The best practice is to se K-fold CV  \n",
    "Also, the strategy here is to CV the train data to tune the hyperparameters; then, use the entire training dataset with the tuned hyperparamters for the final model"
   ]
  },
  {
   "cell_type": "code",
   "execution_count": null,
   "metadata": {},
   "outputs": [
    {
     "name": "stdout",
     "output_type": "stream",
     "text": [
      "Running Fold 1 / 3\n"
     ]
    }
   ],
   "source": [
    "# although the book rolls their own, we'll use sklearn\n",
    "K = 3\n",
    "NUM_EPOCHS = 100\n",
    "\n",
    "kf = KFold(n_splits=K)\n",
    "num_val_samples = len(train_data) // K\n",
    "all_mae = []\n",
    "\n",
    "for i, (train, test) in enumerate(kf.split(train_data)):\n",
    "    print('Running Fold', i+1, '/', K)\n",
    "    model = build_model()\n",
    "    history = model.fit(train_data[train], train_targets[train],\n",
    "                        validation_data=(train_data[test], train_targets[test]),\n",
    "                        epochs=NUM_EPOCHS, batch_size=1, verbose=0)\n",
    "    mae_hist = history.history['mae'] # results at each epoch\n",
    "    all_mae.append(mae)\n",
    "print('\\nMean MAE', np.mean(all_mae))\n",
    "\n",
    "#todo: find mean of each epoch across all folds; plot!"
   ]
  },
  {
   "cell_type": "code",
   "execution_count": null,
   "metadata": {},
   "outputs": [],
   "source": [
    "#     _, mae = model.evaluate(train_data[test], train_targets[test]) "
   ]
  },
  {
   "cell_type": "markdown",
   "metadata": {},
   "source": [
    "One thing the book does when rolling their own k-fold CV procedure is use a very small validation set within each fold.\n",
    "Also, by coding the CV by hand, it's easy to get per epoch MAE, which can be averaged across all folds and graphed"
   ]
  },
  {
   "cell_type": "markdown",
   "metadata": {},
   "source": [
    "### Notes on batch sizing\n",
    "The link below discusses batch, stochastic and mini-batch gradient descent\n",
    "https://machinelearningmastery.com/difference-between-a-batch-and-an-epoch/"
   ]
  }
 ],
 "metadata": {
  "kernelspec": {
   "display_name": "Python 3",
   "language": "python",
   "name": "python3"
  },
  "language_info": {
   "codemirror_mode": {
    "name": "ipython",
    "version": 3
   },
   "file_extension": ".py",
   "mimetype": "text/x-python",
   "name": "python",
   "nbconvert_exporter": "python",
   "pygments_lexer": "ipython3",
   "version": "3.7.7"
  }
 },
 "nbformat": 4,
 "nbformat_minor": 4
}
